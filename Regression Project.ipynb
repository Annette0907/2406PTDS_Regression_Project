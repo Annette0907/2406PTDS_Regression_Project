{
 "cells": [
  {
   "cell_type": "markdown",
   "id": "d5334c49",
   "metadata": {},
   "source": [
    "# Link data set"
   ]
  },
  {
   "cell_type": "code",
   "execution_count": 1,
   "id": "fbeac8c4",
   "metadata": {},
   "outputs": [],
   "source": [
    "import pandas as pd"
   ]
  },
  {
   "cell_type": "code",
   "execution_count": 4,
   "id": "bca7501c",
   "metadata": {},
   "outputs": [],
   "source": [
    "url = \"https://github.com/Annette0907/2406PTDS_Regression_Project/raw/main/co2_emissions_from_agri.csv\""
   ]
  },
  {
   "cell_type": "code",
   "execution_count": 5,
   "id": "3f06b06c",
   "metadata": {},
   "outputs": [],
   "source": [
    "# Load the dataset into a DataFrame\n",
    "\n",
    "df = pd.read_csv(url)"
   ]
  },
  {
   "cell_type": "code",
   "execution_count": 6,
   "id": "7f3ff9f0",
   "metadata": {},
   "outputs": [
    {
     "name": "stdout",
     "output_type": "stream",
     "text": [
      "          Area  Year  Savanna fires  Forest fires  Crop Residues  \\\n",
      "0  Afghanistan  1990        14.7237        0.0557       205.6077   \n",
      "1  Afghanistan  1991        14.7237        0.0557       209.4971   \n",
      "2  Afghanistan  1992        14.7237        0.0557       196.5341   \n",
      "3  Afghanistan  1993        14.7237        0.0557       230.8175   \n",
      "4  Afghanistan  1994        14.7237        0.0557       242.0494   \n",
      "5  Afghanistan  1995        14.7237        0.0557       243.8152   \n",
      "6  Afghanistan  1996        38.9302        0.2014       249.0364   \n",
      "7  Afghanistan  1997        30.9378        0.1193       276.2940   \n",
      "8  Afghanistan  1998        64.1411        0.3263       287.4346   \n",
      "9  Afghanistan  1999        46.1683        0.0895       247.4980   \n",
      "\n",
      "   Rice Cultivation  Drained organic soils (CO2)  Pesticides Manufacturing  \\\n",
      "0            686.00                          0.0                 11.807483   \n",
      "1            678.16                          0.0                 11.712073   \n",
      "2            686.00                          0.0                 11.712073   \n",
      "3            686.00                          0.0                 11.712073   \n",
      "4            705.60                          0.0                 11.712073   \n",
      "5            666.40                          0.0                 11.712073   \n",
      "6            686.00                          0.0                 11.712073   \n",
      "7            705.60                          0.0                 11.712073   \n",
      "8            705.60                          0.0                 11.712073   \n",
      "9            548.80                          0.0                 11.712073   \n",
      "\n",
      "   Food Transport  Forestland  ...  Manure Management  Fires in organic soils  \\\n",
      "0         63.1152   -2388.803  ...           319.1763                     0.0   \n",
      "1         61.2125   -2388.803  ...           342.3079                     0.0   \n",
      "2         53.3170   -2388.803  ...           349.1224                     0.0   \n",
      "3         54.3617   -2388.803  ...           352.2947                     0.0   \n",
      "4         53.9874   -2388.803  ...           367.6784                     0.0   \n",
      "5         54.6445   -2388.803  ...           397.5498                     0.0   \n",
      "6         53.1637   -2388.803  ...           465.2050                     0.0   \n",
      "7         52.0390   -2388.803  ...           511.5927                     0.0   \n",
      "8         52.7050   -2388.803  ...           541.6598                     0.0   \n",
      "9         35.7630   -2388.803  ...           611.0611                     0.0   \n",
      "\n",
      "   Fires in humid tropical forests  On-farm energy use  Rural population  \\\n",
      "0                              0.0                 NaN         9655167.0   \n",
      "1                              0.0                 NaN        10230490.0   \n",
      "2                              0.0                 NaN        10995568.0   \n",
      "3                              0.0                 NaN        11858090.0   \n",
      "4                              0.0                 NaN        12690115.0   \n",
      "5                              0.0                 NaN        13401971.0   \n",
      "6                              0.0                 NaN        13952791.0   \n",
      "7                              0.0                 NaN        14373573.0   \n",
      "8                              0.0                 NaN        14733655.0   \n",
      "9                              0.0                 NaN        15137497.0   \n",
      "\n",
      "   Urban population  Total Population - Male  Total Population - Female  \\\n",
      "0         2593947.0                5348387.0                  5346409.0   \n",
      "1         2763167.0                5372959.0                  5372208.0   \n",
      "2         2985663.0                6028494.0                  6028939.0   \n",
      "3         3237009.0                7003641.0                  7000119.0   \n",
      "4         3482604.0                7733458.0                  7722096.0   \n",
      "5         3697570.0                8219467.0                  8199445.0   \n",
      "6         3870093.0                8569175.0                  8537421.0   \n",
      "7         4008032.0                8916862.0                  8871958.0   \n",
      "8         4130344.0                9275541.0                  9217591.0   \n",
      "9         4266179.0                9667811.0                  9595036.0   \n",
      "\n",
      "   total_emission  Average Temperature °C  \n",
      "0     2198.963539                0.536167  \n",
      "1     2323.876629                0.020667  \n",
      "2     2356.304229               -0.259583  \n",
      "3     2368.470529                0.101917  \n",
      "4     2500.768729                0.372250  \n",
      "5     2624.612529                0.285583  \n",
      "6     2838.921329                0.036583  \n",
      "7     3204.180115                0.415167  \n",
      "8     3560.716661                0.890833  \n",
      "9     3694.806533                1.058500  \n",
      "\n",
      "[10 rows x 31 columns]\n"
     ]
    }
   ],
   "source": [
    "# Display the first 10 rows\n",
    "\n",
    "print(df.head(10))"
   ]
  },
  {
   "cell_type": "code",
   "execution_count": 7,
   "id": "7e0e84de",
   "metadata": {},
   "outputs": [
    {
     "name": "stdout",
     "output_type": "stream",
     "text": [
      "<class 'pandas.core.frame.DataFrame'>\n",
      "RangeIndex: 6965 entries, 0 to 6964\n",
      "Data columns (total 31 columns):\n",
      " #   Column                           Non-Null Count  Dtype  \n",
      "---  ------                           --------------  -----  \n",
      " 0   Area                             6965 non-null   object \n",
      " 1   Year                             6965 non-null   int64  \n",
      " 2   Savanna fires                    6934 non-null   float64\n",
      " 3   Forest fires                     6872 non-null   float64\n",
      " 4   Crop Residues                    5576 non-null   float64\n",
      " 5   Rice Cultivation                 6965 non-null   float64\n",
      " 6   Drained organic soils (CO2)      6965 non-null   float64\n",
      " 7   Pesticides Manufacturing         6965 non-null   float64\n",
      " 8   Food Transport                   6965 non-null   float64\n",
      " 9   Forestland                       6472 non-null   float64\n",
      " 10  Net Forest conversion            6472 non-null   float64\n",
      " 11  Food Household Consumption       6492 non-null   float64\n",
      " 12  Food Retail                      6965 non-null   float64\n",
      " 13  On-farm Electricity Use          6965 non-null   float64\n",
      " 14  Food Packaging                   6965 non-null   float64\n",
      " 15  Agrifood Systems Waste Disposal  6965 non-null   float64\n",
      " 16  Food Processing                  6965 non-null   float64\n",
      " 17  Fertilizers Manufacturing        6965 non-null   float64\n",
      " 18  IPPU                             6222 non-null   float64\n",
      " 19  Manure applied to Soils          6037 non-null   float64\n",
      " 20  Manure left on Pasture           6965 non-null   float64\n",
      " 21  Manure Management                6037 non-null   float64\n",
      " 22  Fires in organic soils           6965 non-null   float64\n",
      " 23  Fires in humid tropical forests  6810 non-null   float64\n",
      " 24  On-farm energy use               6009 non-null   float64\n",
      " 25  Rural population                 6965 non-null   float64\n",
      " 26  Urban population                 6965 non-null   float64\n",
      " 27  Total Population - Male          6965 non-null   float64\n",
      " 28  Total Population - Female        6965 non-null   float64\n",
      " 29  total_emission                   6965 non-null   float64\n",
      " 30  Average Temperature °C           6965 non-null   float64\n",
      "dtypes: float64(29), int64(1), object(1)\n",
      "memory usage: 1.6+ MB\n",
      "None\n",
      "              Year  Savanna fires  Forest fires  Crop Residues  \\\n",
      "count  6965.000000    6934.000000   6872.000000    5576.000000   \n",
      "mean   2005.124910    1188.390893    919.302167     998.706309   \n",
      "std       8.894665    5246.287783   3720.078752    3700.345330   \n",
      "min    1990.000000       0.000000      0.000000       0.000200   \n",
      "25%    1997.000000       0.000000      0.000000      11.006525   \n",
      "50%    2005.000000       1.651850      0.517900     103.698200   \n",
      "75%    2013.000000     111.081400     64.950775     377.640975   \n",
      "max    2020.000000  114616.401100  52227.630600   33490.074100   \n",
      "\n",
      "       Rice Cultivation  Drained organic soils (CO2)  \\\n",
      "count       6965.000000                  6965.000000   \n",
      "mean        4259.666673                  3503.228636   \n",
      "std        17613.825187                 15861.445678   \n",
      "min            0.000000                     0.000000   \n",
      "25%          181.260800                     0.000000   \n",
      "50%          534.817400                     0.000000   \n",
      "75%         1536.640000                   690.408800   \n",
      "max       164915.255600                241025.069600   \n",
      "\n",
      "       Pesticides Manufacturing  Food Transport     Forestland  \\\n",
      "count               6965.000000     6965.000000    6472.000000   \n",
      "mean                 333.418393     1939.581760  -17828.285678   \n",
      "std                 1429.159367     5616.748808   81832.210543   \n",
      "min                    0.000000        0.000100 -797183.079000   \n",
      "25%                    6.000000       27.958600   -2848.350000   \n",
      "50%                   13.000000      204.962800     -62.920000   \n",
      "75%                  116.325487     1207.000900       0.000000   \n",
      "max                16459.000000    67945.765000  171121.076000   \n",
      "\n",
      "       Net Forest conversion  ...  Manure Management  Fires in organic soils  \\\n",
      "count           6.472000e+03  ...        6037.000000             6965.000000   \n",
      "mean            1.760564e+04  ...        2263.344946             1210.315532   \n",
      "std             1.011575e+05  ...        7980.542461            22669.847760   \n",
      "min             0.000000e+00  ...           0.432900                0.000000   \n",
      "25%             0.000000e+00  ...          37.632100                0.000000   \n",
      "50%             4.444000e+01  ...         269.856300                0.000000   \n",
      "75%             4.701746e+03  ...        1126.818900                0.000000   \n",
      "max             1.605106e+06  ...       70592.646500           991717.543100   \n",
      "\n",
      "       Fires in humid tropical forests  On-farm energy use  Rural population  \\\n",
      "count                      6810.000000         6009.000000      6.965000e+03   \n",
      "mean                        668.452931         3008.982252      1.785774e+07   \n",
      "std                        3264.879486        12637.864430      8.901521e+07   \n",
      "min                           0.000000            0.031900      0.000000e+00   \n",
      "25%                           0.000000           13.291900      9.731100e+04   \n",
      "50%                           0.000000          141.096300      1.595322e+06   \n",
      "75%                           9.577875         1136.925400      8.177340e+06   \n",
      "max                       51771.256800       248879.176900      9.000991e+08   \n",
      "\n",
      "       Urban population  Total Population - Male  Total Population - Female  \\\n",
      "count      6.965000e+03             6.965000e+03               6.965000e+03   \n",
      "mean       1.693230e+07             1.761963e+07               1.732447e+07   \n",
      "std        6.574362e+07             7.603993e+07               7.251711e+07   \n",
      "min        0.000000e+00             2.500000e+02               2.700000e+02   \n",
      "25%        2.173860e+05             2.013260e+05               2.078900e+05   \n",
      "50%        2.357581e+06             2.469660e+06               2.444135e+06   \n",
      "75%        8.277123e+06             9.075924e+06               9.112588e+06   \n",
      "max        9.020778e+08             7.435866e+08               7.133419e+08   \n",
      "\n",
      "       total_emission  Average Temperature °C  \n",
      "count    6.965000e+03             6965.000000  \n",
      "mean     6.409124e+04                0.872989  \n",
      "std      2.283130e+05                0.555930  \n",
      "min     -3.918841e+05               -1.415833  \n",
      "25%      5.221244e+03                0.511333  \n",
      "50%      1.214765e+04                0.834300  \n",
      "75%      3.513973e+04                1.206750  \n",
      "max      3.115114e+06                3.558083  \n",
      "\n",
      "[8 rows x 30 columns]\n"
     ]
    }
   ],
   "source": [
    "# See an overview of the dataset\n",
    "\n",
    "print(df.info())\n",
    "print(df.describe())"
   ]
  },
  {
   "cell_type": "markdown",
   "id": "cbaa59be",
   "metadata": {},
   "source": [
    "# Data Cleanup"
   ]
  },
  {
   "cell_type": "code",
   "execution_count": 9,
   "id": "43995d91",
   "metadata": {},
   "outputs": [
    {
     "name": "stdout",
     "output_type": "stream",
     "text": [
      "Area                                  0\n",
      "Year                                  0\n",
      "Savanna fires                        31\n",
      "Forest fires                         93\n",
      "Crop Residues                      1389\n",
      "Rice Cultivation                      0\n",
      "Drained organic soils (CO2)           0\n",
      "Pesticides Manufacturing              0\n",
      "Food Transport                        0\n",
      "Forestland                          493\n",
      "Net Forest conversion               493\n",
      "Food Household Consumption          473\n",
      "Food Retail                           0\n",
      "On-farm Electricity Use               0\n",
      "Food Packaging                        0\n",
      "Agrifood Systems Waste Disposal       0\n",
      "Food Processing                       0\n",
      "Fertilizers Manufacturing             0\n",
      "IPPU                                743\n",
      "Manure applied to Soils             928\n",
      "Manure left on Pasture                0\n",
      "Manure Management                   928\n",
      "Fires in organic soils                0\n",
      "Fires in humid tropical forests     155\n",
      "On-farm energy use                  956\n",
      "Rural population                      0\n",
      "Urban population                      0\n",
      "Total Population - Male               0\n",
      "Total Population - Female             0\n",
      "total_emission                        0\n",
      "Average Temperature °C                0\n",
      "dtype: int64\n"
     ]
    }
   ],
   "source": [
    "# Check for missing values\n",
    "print(df.isnull().sum())\n",
    "\n",
    "# Fill missing values for the 'Drained organic soils (CO2)' column with its mean\n",
    "df['Drained organic soils (CO2)'] = df['Drained organic soils (CO2)'].fillna(df['Drained organic soils (CO2)'].mean())\n",
    "\n",
    "# Forward-fill missing values for the 'Area' column\n",
    "df['Area'] = df['Area'].ffill()"
   ]
  },
  {
   "cell_type": "code",
   "execution_count": 10,
   "id": "45981e34",
   "metadata": {},
   "outputs": [],
   "source": [
    "# Convert columns to appropriate types if necessary\n",
    "df['Year'] = df['Year'].astype(int)  # Convert 'Year' to integer if it's not already done\n",
    "df['Area'] = df['Area'].astype('category')  # Convert 'Area' to category if it's categorical"
   ]
  },
  {
   "cell_type": "code",
   "execution_count": 11,
   "id": "4f8d8cfe",
   "metadata": {},
   "outputs": [],
   "source": [
    "# Example of using IQR to identify outliers in 'Drained organic soils (CO2)'\n",
    "Q1 = df['Drained organic soils (CO2)'].quantile(0.25)\n",
    "Q3 = df['Drained organic soils (CO2)'].quantile(0.75)\n",
    "IQR = Q3 - Q1\n",
    "\n",
    "# Define bounds\n",
    "lower_bound = Q1 - 1.5 * IQR\n",
    "upper_bound = Q3 + 1.5 * IQR\n",
    "\n",
    "# Filter out outliers\n",
    "df = df[(df['Drained organic soils (CO2)'] >= lower_bound) & (df['Drained organic soils (CO2)'] <= upper_bound)]"
   ]
  },
  {
   "cell_type": "code",
   "execution_count": 12,
   "id": "f2582676",
   "metadata": {},
   "outputs": [
    {
     "name": "stdout",
     "output_type": "stream",
     "text": [
      "Number of duplicates: 0\n"
     ]
    }
   ],
   "source": [
    "# Check for duplicates\n",
    "duplicates = df.duplicated()\n",
    "print(f\"Number of duplicates: {duplicates.sum()}\")\n",
    "\n",
    "# Remove duplicates\n",
    "df.drop_duplicates(inplace=True)"
   ]
  },
  {
   "cell_type": "code",
   "execution_count": 13,
   "id": "20c93831",
   "metadata": {},
   "outputs": [],
   "source": [
    "# Standardise units and ranges if needed, e.g., if CO2 was in kg, convert it to kt\n",
    "if df['Drained organic soils (CO2)'].max() > 1_000_000:  # Arbitrary threshold for large values\n",
    "    df['Drained organic soils (CO2)'] = df['Drained organic soils (CO2)'] / 1000\n",
    "    print(\"Converted 'Drained organic soils (CO2)' from kg to kt.\")"
   ]
  },
  {
   "cell_type": "code",
   "execution_count": 14,
   "id": "e3dbe4f8",
   "metadata": {},
   "outputs": [],
   "source": [
    "# Example: One-hot encode the 'Area' column\n",
    "df = pd.get_dummies(df, columns=['Area'], drop_first=True)"
   ]
  },
  {
   "cell_type": "code",
   "execution_count": 15,
   "id": "fa13436e",
   "metadata": {},
   "outputs": [],
   "source": [
    "df.to_csv('cleaned_data.csv', index=False)"
   ]
  },
  {
   "cell_type": "markdown",
   "id": "ef49e2be",
   "metadata": {},
   "source": [
    "# link to the cleaned dataset"
   ]
  },
  {
   "cell_type": "code",
   "execution_count": 16,
   "id": "4909cfc3",
   "metadata": {},
   "outputs": [
    {
     "name": "stdout",
     "output_type": "stream",
     "text": [
      "   Year  Savanna fires  Forest fires  Crop Residues  Rice Cultivation  \\\n",
      "0  1990        14.7237        0.0557       205.6077            686.00   \n",
      "1  1991        14.7237        0.0557       209.4971            678.16   \n",
      "2  1992        14.7237        0.0557       196.5341            686.00   \n",
      "3  1993        14.7237        0.0557       230.8175            686.00   \n",
      "4  1994        14.7237        0.0557       242.0494            705.60   \n",
      "5  1995        14.7237        0.0557       243.8152            666.40   \n",
      "6  1996        38.9302        0.2014       249.0364            686.00   \n",
      "7  1997        30.9378        0.1193       276.2940            705.60   \n",
      "8  1998        64.1411        0.3263       287.4346            705.60   \n",
      "9  1999        46.1683        0.0895       247.4980            548.80   \n",
      "\n",
      "   Drained organic soils (CO2)  Pesticides Manufacturing  Food Transport  \\\n",
      "0                          0.0                 11.807483         63.1152   \n",
      "1                          0.0                 11.712073         61.2125   \n",
      "2                          0.0                 11.712073         53.3170   \n",
      "3                          0.0                 11.712073         54.3617   \n",
      "4                          0.0                 11.712073         53.9874   \n",
      "5                          0.0                 11.712073         54.6445   \n",
      "6                          0.0                 11.712073         53.1637   \n",
      "7                          0.0                 11.712073         52.0390   \n",
      "8                          0.0                 11.712073         52.7050   \n",
      "9                          0.0                 11.712073         35.7630   \n",
      "\n",
      "   Forestland  Net Forest conversion  ...  Area_Uzbekistan  Area_Vanuatu  \\\n",
      "0   -2388.803                    0.0  ...            False         False   \n",
      "1   -2388.803                    0.0  ...            False         False   \n",
      "2   -2388.803                    0.0  ...            False         False   \n",
      "3   -2388.803                    0.0  ...            False         False   \n",
      "4   -2388.803                    0.0  ...            False         False   \n",
      "5   -2388.803                    0.0  ...            False         False   \n",
      "6   -2388.803                    0.0  ...            False         False   \n",
      "7   -2388.803                    0.0  ...            False         False   \n",
      "8   -2388.803                    0.0  ...            False         False   \n",
      "9   -2388.803                    0.0  ...            False         False   \n",
      "\n",
      "   Area_Venezuela (Bolivarian Republic of)  Area_Viet Nam  \\\n",
      "0                                    False          False   \n",
      "1                                    False          False   \n",
      "2                                    False          False   \n",
      "3                                    False          False   \n",
      "4                                    False          False   \n",
      "5                                    False          False   \n",
      "6                                    False          False   \n",
      "7                                    False          False   \n",
      "8                                    False          False   \n",
      "9                                    False          False   \n",
      "\n",
      "   Area_Wallis and Futuna Islands  Area_Western Sahara  Area_Yemen  \\\n",
      "0                           False                False       False   \n",
      "1                           False                False       False   \n",
      "2                           False                False       False   \n",
      "3                           False                False       False   \n",
      "4                           False                False       False   \n",
      "5                           False                False       False   \n",
      "6                           False                False       False   \n",
      "7                           False                False       False   \n",
      "8                           False                False       False   \n",
      "9                           False                False       False   \n",
      "\n",
      "   Area_Yugoslav SFR  Area_Zambia  Area_Zimbabwe  \n",
      "0              False        False          False  \n",
      "1              False        False          False  \n",
      "2              False        False          False  \n",
      "3              False        False          False  \n",
      "4              False        False          False  \n",
      "5              False        False          False  \n",
      "6              False        False          False  \n",
      "7              False        False          False  \n",
      "8              False        False          False  \n",
      "9              False        False          False  \n",
      "\n",
      "[10 rows x 265 columns]\n"
     ]
    }
   ],
   "source": [
    "# new URL of the cleaned dataset in your GitHub repository\n",
    "url = \"https://raw.githubusercontent.com/Annette0907/2406PTDS_Regression_Project/main/cleaned_data.csv\"\n",
    "\n",
    "# Load the dataset\n",
    "df_cleaned = pd.read_csv(url)\n",
    "\n",
    "# Display the first few rows to confirm loading\n",
    "print(df_cleaned.head(10))"
   ]
  },
  {
   "cell_type": "markdown",
   "id": "17fb8c4b",
   "metadata": {},
   "source": [
    "# Using MAE"
   ]
  },
  {
   "cell_type": "code",
   "execution_count": 4,
   "id": "15cb0f31",
   "metadata": {},
   "outputs": [],
   "source": [
    "import pandas as pd\n",
    "from sklearn.model_selection import train_test_split\n",
    "from sklearn.linear_model import LinearRegression\n",
    "from sklearn.metrics import mean_absolute_error\n",
    "from sklearn.impute import SimpleImputer"
   ]
  },
  {
   "cell_type": "markdown",
   "id": "fdececf5",
   "metadata": {},
   "source": [
    "## Preditc Avarage Temperatures with MAE"
   ]
  },
  {
   "cell_type": "code",
   "execution_count": 5,
   "id": "e3caa6a1",
   "metadata": {},
   "outputs": [
    {
     "name": "stdout",
     "output_type": "stream",
     "text": [
      "Mean Absolute Error (MAE) for Average Temperature: 0.2885916644424121\n"
     ]
    }
   ],
   "source": [
    "# Load the cleaned dataset and create dataframe\n",
    "url = \"https://raw.githubusercontent.com/Annette0907/2406PTDS_Regression_Project/main/cleaned_data.csv\"\n",
    "df_cleaned = pd.read_csv(url)\n",
    "\n",
    "# Predict Average Temperature °C\n",
    "target_col_temp = 'Average Temperature °C'\n",
    "feature_cols_temp = df_cleaned.columns[df_cleaned.columns != target_col_temp]\n",
    "\n",
    "# Split the data into features (X) and target (y) for temperature\n",
    "X_temp = df_cleaned[feature_cols_temp]\n",
    "y_temp = df_cleaned[target_col_temp]\n",
    "\n",
    "# Impute missing values in the feature set with the mean\n",
    "imputer = SimpleImputer(strategy='mean')\n",
    "X_temp_imputed = imputer.fit_transform(X_temp)\n",
    "\n",
    "# Train-test split for temperature prediction\n",
    "X_temp_train, X_temp_test, y_temp_train, y_temp_test = train_test_split(X_temp_imputed, y_temp, test_size=0.2, random_state=42)\n",
    "\n",
    "# Train a Linear Regression model for temperature\n",
    "model_temp = LinearRegression()\n",
    "model_temp.fit(X_temp_train, y_temp_train)\n",
    "\n",
    "# Predict and calculate MAE for temperature\n",
    "y_temp_pred = model_temp.predict(X_temp_test)\n",
    "mae_temp = mean_absolute_error(y_temp_test, y_temp_pred)\n",
    "print(f\"Mean Absolute Error (MAE) for Average Temperature: {mae_temp}\")"
   ]
  },
  {
   "cell_type": "markdown",
   "id": "e3713f8c",
   "metadata": {},
   "source": [
    "## Predict Total Emmissions"
   ]
  },
  {
   "cell_type": "code",
   "execution_count": null,
   "id": "1054bd8f",
   "metadata": {},
   "outputs": [
    {
     "name": "stdout",
     "output_type": "stream",
     "text": [
      "Mean Absolute Error (MAE) for Total Emission: 39.18931584148734\n"
     ]
    }
   ],
   "source": [
    "# Load the cleaned dataset and create dataframe\n",
    "url = \"https://raw.githubusercontent.com/Annette0907/2406PTDS_Regression_Project/main/cleaned_data.csv\"\n",
    "df_cleaned = pd.read_csv(url)\n",
    "\n",
    "# Set target and feature columns for emissions\n",
    "target_col_emission = 'total_emission'\n",
    "feature_cols_emission = df_cleaned.columns[df_cleaned.columns != target_col_emission]\n",
    "\n",
    "# Split the data into features (X) and target (y) for emissions\n",
    "X_emission = df_cleaned[feature_cols_emission]\n",
    "y_emission = df_cleaned[target_col_emission]\n",
    "\n",
    "# Impute missing values in the feature set\n",
    "imputer = SimpleImputer(strategy='mean')\n",
    "X_emission_imputed = imputer.fit_transform(X_emission)\n",
    "\n",
    "# Train-test split for emissions prediction\n",
    "X_emission_train, X_emission_test, y_emission_train, y_emission_test = train_test_split(\n",
    "    X_emission_imputed, y_emission, test_size=0.2, random_state=42\n",
    ")\n",
    "\n",
    "# Train a Linear Regression model for emissions\n",
    "model_emission = LinearRegression()\n",
    "model_emission.fit(X_emission_train, y_emission_train)\n",
    "\n",
    "# Predict and calculate MAE for emissions\n",
    "y_emission_pred = model_emission.predict(X_emission_test)\n",
    "mae_emission = mean_absolute_error(y_emission_test, y_emission_pred)\n",
    "print(f\"Mean Absolute Error (MAE) for Total Emission: {mae_emission}\")"
   ]
  },
  {
   "cell_type": "markdown",
   "id": "d987be81",
   "metadata": {},
   "source": [
    "# Using MSE"
   ]
  },
  {
   "cell_type": "code",
   "execution_count": 10,
   "id": "9b2530a1",
   "metadata": {},
   "outputs": [],
   "source": [
    "import pandas as pd\n",
    "from sklearn.model_selection import train_test_split\n",
    "from sklearn.linear_model import LinearRegression\n",
    "from sklearn.metrics import mean_squared_error\n",
    "from sklearn.impute import SimpleImputer"
   ]
  },
  {
   "cell_type": "markdown",
   "id": "b84e8e27",
   "metadata": {},
   "source": [
    "## Predict Average Temperature"
   ]
  },
  {
   "cell_type": "code",
   "execution_count": 11,
   "id": "3fbf4da7",
   "metadata": {},
   "outputs": [
    {
     "name": "stdout",
     "output_type": "stream",
     "text": [
      "Mean Squared Error (MSE) for Average Temperature: 0.15327602045186448\n"
     ]
    }
   ],
   "source": [
    "# Load the cleaned dataset and create dataframe\n",
    "url = \"https://raw.githubusercontent.com/Annette0907/2406PTDS_Regression_Project/main/cleaned_data.csv\"\n",
    "df_cleaned = pd.read_csv(url)\n",
    "\n",
    "# Set target and feature columns for temperature prediction\n",
    "target_col_temp = 'Average Temperature °C'\n",
    "feature_cols_temp = df_cleaned.columns[df_cleaned.columns != target_col_temp]\n",
    "\n",
    "# Split the data into features (X) and target (y) for temperature\n",
    "X_temp = df_cleaned[feature_cols_temp]\n",
    "y_temp = df_cleaned[target_col_temp]\n",
    "\n",
    "# Impute missing values in the feature set\n",
    "imputer = SimpleImputer(strategy='mean')\n",
    "X_temp_imputed = imputer.fit_transform(X_temp)\n",
    "\n",
    "# Train-test split for temperature prediction\n",
    "X_temp_train, X_temp_test, y_temp_train, y_temp_test = train_test_split(X_temp_imputed, y_temp, test_size=0.2, random_state=42)\n",
    "\n",
    "# Train a Linear Regression model for temperature\n",
    "model_temp = LinearRegression()\n",
    "model_temp.fit(X_temp_train, y_temp_train)\n",
    "\n",
    "# Predict and calculate MSE for temperature\n",
    "y_temp_pred = model_temp.predict(X_temp_test)\n",
    "mse_temp = mean_squared_error(y_temp_test, y_temp_pred)\n",
    "print(f\"Mean Squared Error (MSE) for Average Temperature: {mse_temp}\")"
   ]
  },
  {
   "cell_type": "markdown",
   "id": "0a86761b",
   "metadata": {},
   "source": [
    "## Predict Total Emmissions"
   ]
  },
  {
   "cell_type": "code",
   "execution_count": 13,
   "id": "c1f1a488",
   "metadata": {},
   "outputs": [],
   "source": [
    "import pandas as pd\n",
    "from sklearn.model_selection import train_test_split\n",
    "from sklearn.linear_model import LinearRegression\n",
    "from sklearn.metrics import mean_squared_error\n",
    "from sklearn.impute import SimpleImputer"
   ]
  },
  {
   "cell_type": "code",
   "execution_count": 14,
   "id": "3197c32f",
   "metadata": {},
   "outputs": [
    {
     "name": "stdout",
     "output_type": "stream",
     "text": [
      "Mean Squared Error (MSE) for Total Emission: 16055.710140033041\n"
     ]
    }
   ],
   "source": [
    "# Load the cleaned dataset and create dataframe\n",
    "url = \"https://raw.githubusercontent.com/Annette0907/2406PTDS_Regression_Project/main/cleaned_data.csv\"\n",
    "df_cleaned = pd.read_csv(url)\n",
    "\n",
    "# Set target and feature columns for emissions prediction\n",
    "target_col_emission = 'total_emission'\n",
    "feature_cols_emission = df_cleaned.columns[df_cleaned.columns != target_col_emission]\n",
    "\n",
    "# Split the data into features (X) and target (y) for emissions\n",
    "X_emission = df_cleaned[feature_cols_emission]\n",
    "y_emission = df_cleaned[target_col_emission]\n",
    "\n",
    "# Impute missing values in the feature set\n",
    "imputer = SimpleImputer(strategy='mean')\n",
    "X_emission_imputed = imputer.fit_transform(X_emission)\n",
    "\n",
    "# Train-test split for emissions prediction\n",
    "X_emission_train, X_emission_test, y_emission_train, y_emission_test = train_test_split(\n",
    "    X_emission_imputed, y_emission, test_size=0.2, random_state=42)\n",
    "\n",
    "# Train a Linear Regression model for emissions\n",
    "model_emission = LinearRegression()\n",
    "model_emission.fit(X_emission_train, y_emission_train)\n",
    "\n",
    "# Predict and calculate MSE for emissions\n",
    "y_emission_pred = model_emission.predict(X_emission_test)\n",
    "mse_emission = mean_squared_error(y_emission_test, y_emission_pred)\n",
    "print(f\"Mean Squared Error (MSE) for Total Emission: {mse_emission}\")"
   ]
  },
  {
   "cell_type": "markdown",
   "id": "c9d3fc62",
   "metadata": {},
   "source": [
    "# Using RMSE"
   ]
  },
  {
   "cell_type": "markdown",
   "id": "8b1f83f7",
   "metadata": {},
   "source": [
    "## Predict Average Temperature"
   ]
  },
  {
   "cell_type": "code",
   "execution_count": 3,
   "id": "d0174320",
   "metadata": {},
   "outputs": [],
   "source": [
    "import pandas as pd\n",
    "import numpy as np\n",
    "from sklearn.model_selection import train_test_split\n",
    "from sklearn.linear_model import LinearRegression\n",
    "from sklearn.metrics import mean_squared_error\n",
    "from sklearn.impute import SimpleImputer"
   ]
  },
  {
   "cell_type": "code",
   "execution_count": 4,
   "id": "31cc0fa1",
   "metadata": {},
   "outputs": [
    {
     "name": "stdout",
     "output_type": "stream",
     "text": [
      "Root Mean Squared Error (RMSE) for Average Temperature: 0.3915048153622947\n"
     ]
    }
   ],
   "source": [
    "# Load the cleaned dataset and create dataframe\n",
    "url = \"https://raw.githubusercontent.com/Annette0907/2406PTDS_Regression_Project/main/cleaned_data.csv\"\n",
    "df_cleaned = pd.read_csv(url)\n",
    "\n",
    "# Set target and feature columns for temperature prediction\n",
    "target_col_temp = 'Average Temperature °C'\n",
    "feature_cols_temp = df_cleaned.columns[df_cleaned.columns != target_col_temp]\n",
    "\n",
    "# Split the data into features (X) and target (y) for temperature\n",
    "X_temp = df_cleaned[feature_cols_temp]\n",
    "y_temp = df_cleaned[target_col_temp]\n",
    "\n",
    "# Impute missing values in the feature set\n",
    "imputer = SimpleImputer(strategy='mean')\n",
    "X_temp_imputed = imputer.fit_transform(X_temp)\n",
    "\n",
    "# Train-test split for temperature prediction\n",
    "X_temp_train, X_temp_test, y_temp_train, y_temp_test = train_test_split(\n",
    "    X_temp_imputed, y_temp, test_size=0.2, random_state=42)\n",
    "\n",
    "# Train a Linear Regression model for temperature\n",
    "model_temp = LinearRegression()\n",
    "model_temp.fit(X_temp_train, y_temp_train)\n",
    "\n",
    "# Predict and calculate RMSE for temperature\n",
    "y_temp_pred = model_temp.predict(X_temp_test)\n",
    "rmse_temp = np.sqrt(mean_squared_error(y_temp_test, y_temp_pred))\n",
    "print(f\"Root Mean Squared Error (RMSE) for Average Temperature: {rmse_temp}\")"
   ]
  },
  {
   "cell_type": "markdown",
   "id": "781691a2",
   "metadata": {},
   "source": [
    "## Predict Total Emissions"
   ]
  },
  {
   "cell_type": "code",
   "execution_count": 6,
   "id": "aa2af3a3",
   "metadata": {},
   "outputs": [],
   "source": [
    "import pandas as pd\n",
    "import numpy as np\n",
    "from sklearn.model_selection import train_test_split\n",
    "from sklearn.linear_model import LinearRegression\n",
    "from sklearn.metrics import mean_squared_error\n",
    "from sklearn.impute import SimpleImputer"
   ]
  },
  {
   "cell_type": "code",
   "execution_count": 7,
   "id": "31b3316e",
   "metadata": {},
   "outputs": [
    {
     "name": "stdout",
     "output_type": "stream",
     "text": [
      "Root Mean Squared Error (RMSE) for Total Emission: 126.71112871422558\n"
     ]
    }
   ],
   "source": [
    "# Load the cleaned dataset & Ceate dataframe\n",
    "url = \"https://raw.githubusercontent.com/Annette0907/2406PTDS_Regression_Project/main/cleaned_data.csv\"\n",
    "df_cleaned = pd.read_csv(url)\n",
    "\n",
    "# Predict Total Emission\n",
    "target_col_emission = 'total_emission'\n",
    "feature_cols_emission = df_cleaned.columns[df_cleaned.columns != target_col_emission]\n",
    "\n",
    "# Split the data into features (X) and target (y) for emissions\n",
    "X_emission = df_cleaned[feature_cols_emission]\n",
    "y_emission = df_cleaned[target_col_emission]\n",
    "\n",
    "# Impute missing values in the feature set\n",
    "imputer = SimpleImputer(strategy='mean')\n",
    "X_emission_imputed = imputer.fit_transform(X_emission)\n",
    "\n",
    "# Train-test split for emissions prediction\n",
    "X_emission_train, X_emission_test, y_emission_train, y_emission_test = train_test_split(\n",
    "    X_emission_imputed, y_emission, test_size=0.2, random_state=42)\n",
    "\n",
    "# Train a Linear Regression model for emissions\n",
    "model_emission = LinearRegression()\n",
    "model_emission.fit(X_emission_train, y_emission_train)\n",
    "\n",
    "# Predict and calculate RMSE for emissions\n",
    "y_emission_pred = model_emission.predict(X_emission_test)\n",
    "rmse_emission = np.sqrt(mean_squared_error(y_emission_test, y_emission_pred))\n",
    "print(f\"Root Mean Squared Error (RMSE) for Total Emission: {rmse_emission}\")"
   ]
  },
  {
   "cell_type": "markdown",
   "id": "736027d0",
   "metadata": {},
   "source": [
    "# Using R-Squared"
   ]
  },
  {
   "cell_type": "code",
   "execution_count": 5,
   "id": "d8aa55f4",
   "metadata": {},
   "outputs": [],
   "source": [
    "import pandas as pd\n",
    "import numpy as np\n",
    "from sklearn.model_selection import train_test_split\n",
    "from sklearn.linear_model import LinearRegression\n",
    "from sklearn.metrics import r2_score\n",
    "from sklearn.impute import SimpleImputer"
   ]
  },
  {
   "cell_type": "markdown",
   "id": "30023bec",
   "metadata": {},
   "source": [
    "## Predict Average Temperatures"
   ]
  },
  {
   "cell_type": "code",
   "execution_count": 6,
   "id": "b7b1bfc6",
   "metadata": {},
   "outputs": [
    {
     "name": "stdout",
     "output_type": "stream",
     "text": [
      "R-squared for Average Temperature: 0.4396513009783808\n"
     ]
    }
   ],
   "source": [
    "# Load the cleaned dataset\n",
    "url = \"https://raw.githubusercontent.com/Annette0907/2406PTDS_Regression_Project/main/cleaned_data.csv\"\n",
    "df_cleaned = pd.read_csv(url)\n",
    "\n",
    "# Predict Average Temperature °C\n",
    "target_col_temp = 'Average Temperature °C'\n",
    "feature_cols_temp = df_cleaned.columns[df_cleaned.columns != target_col_temp]\n",
    "\n",
    "# Split the data into features (X) and target (y) for temperature\n",
    "X_temp = df_cleaned[feature_cols_temp]\n",
    "y_temp = df_cleaned[target_col_temp]\n",
    "\n",
    "# Impute missing values in the feature set\n",
    "imputer = SimpleImputer(strategy='mean')\n",
    "X_temp_imputed = imputer.fit_transform(X_temp)\n",
    "\n",
    "# Train-test split for temperature prediction\n",
    "X_temp_train, X_temp_test, y_temp_train, y_temp_test = train_test_split(\n",
    "    X_temp_imputed, y_temp, test_size=0.2, random_state=42)\n",
    "\n",
    "# Train a Linear Regression model for temperature\n",
    "model_temp = LinearRegression()\n",
    "model_temp.fit(X_temp_train, y_temp_train)\n",
    "\n",
    "# Predict and calculate R-squared for temperature\n",
    "y_temp_pred = model_temp.predict(X_temp_test)\n",
    "r2_temp = r2_score(y_temp_test, y_temp_pred)\n",
    "print(f\"R-squared for Average Temperature: {r2_temp}\")"
   ]
  },
  {
   "cell_type": "markdown",
   "id": "a6cb0398",
   "metadata": {},
   "source": [
    "## Predict Total Emissions"
   ]
  },
  {
   "cell_type": "code",
   "execution_count": 8,
   "id": "1d646a2a",
   "metadata": {},
   "outputs": [],
   "source": [
    "import pandas as pd\n",
    "import numpy as np\n",
    "from sklearn.model_selection import train_test_split\n",
    "from sklearn.linear_model import LinearRegression\n",
    "from sklearn.metrics import r2_score\n",
    "from sklearn.impute import SimpleImputer"
   ]
  },
  {
   "cell_type": "code",
   "execution_count": 9,
   "id": "a9913727",
   "metadata": {},
   "outputs": [
    {
     "name": "stdout",
     "output_type": "stream",
     "text": [
      "R-squared for Total Emission: 0.9999989113867127\n"
     ]
    }
   ],
   "source": [
    "# Load the cleaned dataset\n",
    "url = \"https://raw.githubusercontent.com/Annette0907/2406PTDS_Regression_Project/main/cleaned_data.csv\"\n",
    "df_cleaned = pd.read_csv(url)\n",
    "\n",
    "# Predict Total Emission\n",
    "target_col_emission = 'total_emission'\n",
    "feature_cols_emission = df_cleaned.columns[df_cleaned.columns != target_col_emission]\n",
    "\n",
    "# Split the data into features (X) and target (y) for emissions\n",
    "X_emission = df_cleaned[feature_cols_emission]\n",
    "y_emission = df_cleaned[target_col_emission]\n",
    "\n",
    "# Impute missing values in the feature set\n",
    "imputer = SimpleImputer(strategy='mean')\n",
    "X_emission_imputed = imputer.fit_transform(X_emission)\n",
    "\n",
    "# Train-test split for emissions prediction\n",
    "X_emission_train, X_emission_test, y_emission_train, y_emission_test = train_test_split(\n",
    "    X_emission_imputed, y_emission, test_size=0.2, random_state=42)\n",
    "\n",
    "# Train a Linear Regression model for emissions\n",
    "model_emission = LinearRegression()\n",
    "model_emission.fit(X_emission_train, y_emission_train)\n",
    "\n",
    "# Predict and calculate R-squared for emissions\n",
    "y_emission_pred = model_emission.predict(X_emission_test)\n",
    "r2_emission = r2_score(y_emission_test, y_emission_pred)\n",
    "print(f\"R-squared for Total Emission: {r2_emission}\")"
   ]
  },
  {
   "cell_type": "markdown",
   "id": "bdce7c1b",
   "metadata": {},
   "source": [
    "# Visualise Predicted Average Temperature"
   ]
  },
  {
   "cell_type": "code",
   "execution_count": 4,
   "id": "1378e280",
   "metadata": {},
   "outputs": [],
   "source": [
    "import numpy as np\n",
    "import pandas as pd\n",
    "import matplotlib.pyplot as plt\n",
    "from sklearn.model_selection import train_test_split\n",
    "from sklearn.linear_model import LinearRegression\n",
    "from sklearn.metrics import mean_absolute_error, mean_squared_error, r2_score"
   ]
  },
  {
   "cell_type": "code",
   "execution_count": 5,
   "id": "6e3977e9",
   "metadata": {},
   "outputs": [
    {
     "data": {
      "image/png": "[encoded data removed]",
      "text/plain": [
       "<Figure size 1000x600 with 1 Axes>"
      ]
     },
     "metadata": {},
     "output_type": "display_data"
    }
   ],
   "source": [
    "url = \"https://raw.githubusercontent.com/Annette0907/2406PTDS_Regression_Project/main/cleaned_data.csv\"\n",
    "df_cleaned = pd.read_csv(url)\n",
    "\n",
    "# Specify target and feature columns for Average Temperature prediction\n",
    "target_col_temp = 'Average Temperature °C'\n",
    "feature_cols_temp = df_cleaned.columns[df_cleaned.columns != target_col_temp]\n",
    "\n",
    "# Split dataset into features and target\n",
    "X_temp = df_cleaned[feature_cols_temp]\n",
    "y_temp = df_cleaned[target_col_temp]\n",
    "\n",
    "# Handle missing values by dropping rows with NaN values\n",
    "X_temp = X_temp.dropna()\n",
    "y_temp = y_temp[X_temp.index]\n",
    "\n",
    "# Train-test split for temperature prediction\n",
    "X_temp_train, X_temp_test, y_temp_train, y_temp_test = train_test_split(X_temp, y_temp, test_size=0.2, random_state=42)\n",
    "\n",
    "# Define and fit Linear Regression model\n",
    "model_temp = LinearRegression()\n",
    "model_temp.fit(X_temp_train, y_temp_train)\n",
    "\n",
    "# Predict on test data\n",
    "y_temp_pred = model_temp.predict(X_temp_test)\n",
    "\n",
    "# Visualization of Actual vs Predicted Average Temperature\n",
    "plt.figure(figsize=(10, 6))\n",
    "plt.scatter(y_temp_test, y_temp_pred, color='blue', alpha=0.6, label='Predicted')\n",
    "plt.plot(y_temp_test, y_temp_test, color='red', linestyle='--', label='Ideal Fit (y=x)')\n",
    "plt.xlabel(\"Actual Average Temperature (°C)\")\n",
    "plt.ylabel(\"Predicted Average Temperature (°C)\")\n",
    "plt.title(\"Actual vs Predicted Average Temperature\")\n",
    "plt.legend()\n",
    "plt.show()"
   ]
  },
  {
   "cell_type": "markdown",
   "id": "6531e5a5",
   "metadata": {},
   "source": [
    "# Visualise Predicted Total Emissions"
   ]
  },
  {
   "cell_type": "code",
   "execution_count": 7,
   "id": "5ed8865e",
   "metadata": {},
   "outputs": [],
   "source": [
    "import numpy as np\n",
    "import pandas as pd\n",
    "import matplotlib.pyplot as plt\n",
    "from sklearn.model_selection import train_test_split\n",
    "from sklearn.linear_model import LinearRegression\n",
    "from sklearn.metrics import mean_absolute_error, mean_squared_error, r2_score"
   ]
  },
  {
   "cell_type": "code",
   "execution_count": 8,
   "id": "de18a716",
   "metadata": {},
   "outputs": [
    {
     "data": {
      "image/png": "[encoded data removed]",
      "text/plain": [
       "<Figure size 1000x600 with 1 Axes>"
      ]
     },
     "metadata": {},
     "output_type": "display_data"
    }
   ],
   "source": [
    "# Load the cleaned dataset\n",
    "url = \"https://raw.githubusercontent.com/Annette0907/2406PTDS_Regression_Project/main/cleaned_data.csv\"\n",
    "df_cleaned = pd.read_csv(url)\n",
    "\n",
    "# Specify target and feature columns for Total Emission prediction\n",
    "target_col_emission = 'total_emission'\n",
    "feature_cols_emission = df_cleaned.columns[df_cleaned.columns != target_col_emission]\n",
    "\n",
    "# Split dataset into features and target for emissions\n",
    "X_emission = df_cleaned[feature_cols_emission]\n",
    "y_emission = df_cleaned[target_col_emission]\n",
    "\n",
    "# Handle missing values by dropping rows with NaN values\n",
    "X_emission = X_emission.dropna()\n",
    "y_emission = y_emission[X_emission.index]\n",
    "\n",
    "# Train-test split for emissions prediction\n",
    "X_emission_train, X_emission_test, y_emission_train, y_emission_test = train_test_split(\n",
    "    X_emission, y_emission, test_size=0.2, random_state=42\n",
    ")\n",
    "\n",
    "# Define and fit Linear Regression model for emissions\n",
    "model_emission = LinearRegression()\n",
    "model_emission.fit(X_emission_train, y_emission_train)\n",
    "\n",
    "# Predict on test data\n",
    "y_emission_pred = model_emission.predict(X_emission_test)\n",
    "\n",
    "# Visualization of Actual vs Predicted Total Emissions\n",
    "plt.figure(figsize=(10, 6))\n",
    "plt.scatter(y_emission_test, y_emission_pred, color='green', alpha=0.6, label='Predicted')\n",
    "plt.plot(y_emission_test, y_emission_test, color='red', linestyle='--', label='Ideal Fit (y=x)')\n",
    "plt.xlabel(\"Actual Total Emissions (kt)\")\n",
    "plt.ylabel(\"Predicted Total Emissions (kt)\")\n",
    "plt.title(\"Actual vs Predicted Total Emissions\")\n",
    "plt.legend()\n",
    "plt.show()"
   ]
  },
  {
   "cell_type": "code",
   "execution_count": null,
   "id": "7ca8bf9b",
   "metadata": {},
   "outputs": [],
   "source": []
  }
 ],
 "metadata": {
  "kernelspec": {
   "display_name": "base",
   "language": "python",
   "name": "python3"
  },
  "language_info": {
   "codemirror_mode": {
    "name": "ipython",
    "version": 3
   },
   "file_extension": ".py",
   "mimetype": "text/x-python",
   "name": "python",
   "nbconvert_exporter": "python",
   "pygments_lexer": "ipython3",
   "version": "3.11.7"
  }
 },
 "nbformat": 4,
 "nbformat_minor": 5
}
